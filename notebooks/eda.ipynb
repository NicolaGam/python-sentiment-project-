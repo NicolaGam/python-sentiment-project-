{
 "cells": [
  {
   "cell_type": "code",
   "execution_count": 6,
   "metadata": {},
   "outputs": [],
   "source": [
    "import pandas as pd\n",
    "import sys\n",
    "import os"
   ]
  },
  {
   "cell_type": "code",
   "execution_count": 10,
   "metadata": {},
   "outputs": [],
   "source": [
    "sys.path.append(os.path.abspath(\"../\"))\n",
    "from src import config"
   ]
  },
  {
   "cell_type": "code",
   "execution_count": 3,
   "metadata": {},
   "outputs": [],
   "source": [
    "df=pd.read_excel('../data/raw/generic_27k.xlsx')"
   ]
  },
  {
   "cell_type": "code",
   "execution_count": 13,
   "metadata": {},
   "outputs": [
    {
     "name": "stdout",
     "output_type": "stream",
     "text": [
      "                                                text               hash_tags  \\\n",
      "0  RT @POTUS: As we celebrate the progress we’ve ...                     NaN   \n",
      "1  This #EarthDay, I'm happy to be meeting with P...  EarthDay,GetTheLeadOut   \n",
      "2  RT @Khan__sir_patna: All of people wishes and ...                EarthDay   \n",
      "3  RT @CapsCoalition: Biden Signs Executive Order...                EarthDay   \n",
      "4  RT @tamannaahspeaks: Animals source their food...       MyconnectwithSoil   \n",
      "\n",
      "                            account_tags sentiment   emotion  \n",
      "0                                  POTUS  POSITIVE  optimism  \n",
      "1                        PennEnvironment  POSITIVE  optimism  \n",
      "2                        Khan__sir_patna  POSITIVE       joy  \n",
      "3                          CapsCoalition  POSITIVE  optimism  \n",
      "4  tamannaahspeaks,SadhguruJV,cpsavesoil  POSITIVE  optimism  \n"
     ]
    }
   ],
   "source": [
    "print(df.head())"
   ]
  },
  {
   "cell_type": "code",
   "execution_count": 12,
   "metadata": {},
   "outputs": [],
   "source": [
    "df=pd.read_excel(os.path.join(config.RAW_DATA_PATH,\"earth_day_tweets_sentiment_50k_(1).xlsx\"))"
   ]
  }
 ],
 "metadata": {
  "kernelspec": {
   "display_name": "Python 3",
   "language": "python",
   "name": "python3"
  },
  "language_info": {
   "codemirror_mode": {
    "name": "ipython",
    "version": 3
   },
   "file_extension": ".py",
   "mimetype": "text/x-python",
   "name": "python",
   "nbconvert_exporter": "python",
   "pygments_lexer": "ipython3",
   "version": "3.13.2"
  }
 },
 "nbformat": 4,
 "nbformat_minor": 2
}
